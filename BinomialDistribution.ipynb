{
 "cells": [
  {
   "cell_type": "code",
   "execution_count": 1,
   "metadata": {},
   "outputs": [],
   "source": [
    "#The binomial distribution model deals with finding the probability of success of an event which has only two possible outcomes in a series of experiments. \n",
    "#For example, tossing of a coin always gives a head or a tail. \n",
    "#The probability of finding exactly 3 heads in tossing a coin repeatedly for 10 times is estimated during the binomial distribution.\n",
    "\n",
    "#We use the seaborn python library which has in-built functions to create such probability distribution graphs. \n",
    "#Also, the scipy package helps is creating the binomial distribution."
   ]
  },
  {
   "cell_type": "code",
   "execution_count": 2,
   "metadata": {},
   "outputs": [
    {
     "name": "stderr",
     "output_type": "stream",
     "text": [
      "C:\\Users\\Naum\\anaconda3\\lib\\site-packages\\seaborn\\distributions.py:2551: FutureWarning: `distplot` is a deprecated function and will be removed in a future version. Please adapt your code to use either `displot` (a figure-level function with similar flexibility) or `histplot` (an axes-level function for histograms).\n",
      "  warnings.warn(msg, FutureWarning)\n"
     ]
    },
    {
     "data": {
      "text/plain": [
       "[Text(0.5, 0, 'Binomial'), Text(0, 0.5, 'Frequency')]"
      ]
     },
     "execution_count": 2,
     "metadata": {},
     "output_type": "execute_result"
    },
    {
     "data": {
      "image/png": "[encoded data removed]",
      "text/plain": [
       "<Figure size 432x288 with 1 Axes>"
      ]
     },
     "metadata": {
      "needs_background": "light"
     },
     "output_type": "display_data"
    }
   ],
   "source": [
    "from scipy.stats import binom\n",
    "import seaborn as sb\n",
    "\n",
    "binom.rvs(size=10,n=20,p=0.8)\n",
    "\n",
    "data_binom = binom.rvs(n=20,p=0.8,loc=0,size=1000)\n",
    "ax = sb.distplot(data_binom,\n",
    "                  kde=True,\n",
    "                  color='blue',\n",
    "                  hist_kws={\"linewidth\": 25,'alpha':1})\n",
    "ax.set(xlabel='Binomial', ylabel='Frequency')"
   ]
  }
 ],
 "metadata": {
  "kernelspec": {
   "display_name": "Python 3",
   "language": "python",
   "name": "python3"
  },
  "language_info": {
   "codemirror_mode": {
    "name": "ipython",
    "version": 3
   },
   "file_extension": ".py",
   "mimetype": "text/x-python",
   "name": "python",
   "nbconvert_exporter": "python",
   "pygments_lexer": "ipython3",
   "version": "3.8.5"
  }
 },
 "nbformat": 4,
 "nbformat_minor": 4
}
