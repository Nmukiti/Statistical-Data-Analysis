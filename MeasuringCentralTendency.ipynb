{
 "cells": [
  {
   "cell_type": "code",
   "execution_count": 3,
   "metadata": {},
   "outputs": [
    {
     "name": "stdout",
     "output_type": "stream",
     "text": [
      "Mean Values in the Distribution\n",
      "Age       31.833333\n",
      "Rating     3.743333\n",
      "dtype: float64\n",
      "*******************************\n",
      "Median Values in the Distribution\n",
      "Age       29.50\n",
      "Rating     3.79\n",
      "dtype: float64\n"
     ]
    }
   ],
   "source": [
    "#Calculating Mean and Median\n",
    "#The pandas functions can be directly used to calculate these values.\n",
    "\n",
    "import pandas as pd\n",
    "\n",
    "#Create a Dictionary of series\n",
    "d = {'Name':pd.Series(['Tom','James','Ricky','Vin','Steve','Smith','Jack',\n",
    "   'Lee','Chanchal','Gasper','Naviya','Andres']),\n",
    "   'Age':pd.Series([25,26,25,23,30,29,23,34,40,30,51,46]),\n",
    "   'Rating':pd.Series([4.23,3.24,3.98,2.56,3.20,4.6,3.8,3.78,2.98,4.80,4.10,3.65])}\n",
    "\n",
    "#Create a DataFrame\n",
    "df = pd.DataFrame(d)\n",
    "print (\"Mean Values in the Distribution\")\n",
    "print (df.mean())\n",
    "print (\"*******************************\")\n",
    "print (\"Median Values in the Distribution\")\n",
    "print (df.median())"
   ]
  },
  {
   "cell_type": "code",
   "execution_count": 4,
   "metadata": {},
   "outputs": [
    {
     "name": "stdout",
     "output_type": "stream",
     "text": [
      "        Name   Age\n",
      "0     Andres  25.0\n",
      "1   Chanchal   NaN\n",
      "2     Gasper   NaN\n",
      "3       Jack   NaN\n",
      "4      James   NaN\n",
      "5        Lee   NaN\n",
      "6     Naviya   NaN\n",
      "7      Ricky   NaN\n",
      "8      Smith   NaN\n",
      "9      Steve   NaN\n",
      "10       Tom   NaN\n",
      "11       Vin   NaN\n"
     ]
    }
   ],
   "source": [
    "#Calculating Mode\n",
    "#Mode may or may not be available in a distribution depending on whether the data is continous or whether there are values which has maximum frquency. \n",
    "#We take a simple distribution below to find out the mode. \n",
    "#Here we have a value which has maximum frequency in the distribution.\n",
    "\n",
    "import pandas as pd\n",
    "\n",
    "#Create a Dictionary of series\n",
    "d = {'Name':pd.Series(['Tom','James','Ricky','Vin','Steve','Smith','Jack',\n",
    "   'Lee','Chanchal','Gasper','Naviya','Andres']),\n",
    "   'Age':pd.Series([25,26,25,23,30,25,23,34,40,30,25,46])}\n",
    "#Create a DataFrame\n",
    "df = pd.DataFrame(d)\n",
    "\n",
    "print (df.mode())\n",
    "\n",
    "import numpy as np \n",
    "import matplotlib.pyplot as plt \n",
    "\n",
    "x = np.arange(0,10) \n",
    "y = x ^ 2 \n",
    "#Labeling the Axes and Title\n",
    "plt.title(\"Graph Drawing\") \n",
    "plt.xlabel(\"Time\") \n",
    "plt.ylabel(\"Distance\") \n",
    "#Simple Plot\n",
    "plt.plot(x,y)"
   ]
  }
 ],
 "metadata": {
  "kernelspec": {
   "display_name": "Python 3",
   "language": "python",
   "name": "python3"
  },
  "language_info": {
   "codemirror_mode": {
    "name": "ipython",
    "version": 3
   },
   "file_extension": ".py",
   "mimetype": "text/x-python",
   "name": "python",
   "nbconvert_exporter": "python",
   "pygments_lexer": "ipython3",
   "version": "3.8.5"
  }
 },
 "nbformat": 4,
 "nbformat_minor": 4
}
